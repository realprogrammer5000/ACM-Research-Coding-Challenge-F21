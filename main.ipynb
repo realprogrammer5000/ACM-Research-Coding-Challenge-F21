{
 "cells": [
  {
   "cell_type": "markdown",
   "metadata": {},
   "source": [
    "# Sentiment Analysis with NLTK and VADER\n",
    "# TODO: decide on 'I' vs 'we'"
   ]
  },
  {
   "cell_type": "markdown",
   "metadata": {},
   "source": [
    "## Step 1: Load the input text"
   ]
  },
  {
   "cell_type": "code",
   "execution_count": 131,
   "metadata": {},
   "outputs": [
    {
     "name": "stdout",
     "output_type": "stream",
     "text": [
      "Read 50 characters of input file: \"Stop blushing. I'm not needling, really I'm not. \n"
     ]
    }
   ],
   "source": [
    "from pathlib import Path\n",
    "\n",
    "# read and close the file in one line\n",
    "# see https://stackoverflow.com/a/49564464\n",
    "text_file = Path(\"input.txt\").read_text()\n",
    "\n",
    "# ensure that we've read the correct file\n",
    "print(\"Read 50 characters of input file: \" + text_file[0:50])"
   ]
  },
  {
   "cell_type": "markdown",
   "metadata": {
    "pycharm": {
     "name": "#%% md\n"
    }
   },
   "source": [
    "## Step 2: Split into two paragraphs and reformat text\n",
    "The input text file seems to contain two paragraphs that I believe should be analyzed separately.\n",
    "These paragraphs are seperated by double newlines, so I split them here.\n",
    "The input text file also contains newlines to avoid any one line from being too long, so I then remove all the newlines."
   ]
  },
  {
   "cell_type": "code",
   "execution_count": 132,
   "metadata": {
    "pycharm": {
     "name": "#%%\n"
    }
   },
   "outputs": [
    {
     "name": "stdout",
     "output_type": "stream",
     "text": [
      "Extracted 2 paragraphs: '\"Stop blushing. I'm ...' 'I think you may like...'\n"
     ]
    }
   ],
   "source": [
    "# split into paragraphs and remove newlines inside paragraphs\n",
    "# we also need to remove double-spaces because some lines end with a space\n",
    "paragraphs = text_file.split(\"\\n\\n\")\n",
    "paragraphs = [paragraph.replace(\"\\n\", \" \").replace(\"  \", \" \") for paragraph in paragraphs]\n",
    "print(\"Extracted {} paragraphs: '{}...' '{}...'\".format(len(paragraphs), paragraphs[0][0:20], paragraphs[1][0:20]))"
   ]
  },
  {
   "cell_type": "markdown",
   "source": [
    "## Step 3: Calculating overall sentiment with NLTK and VADER\n",
    "To begin, we calculate the overall sentiment of our input text with VADER, a sentiment\n",
    "analysis tool built from the research of Hutto, C.J. & Gilbert."
   ],
   "metadata": {
    "collapsed": false,
    "pycharm": {
     "name": "#%% md\n"
    }
   }
  },
  {
   "cell_type": "markdown",
   "source": [
    "### Step 3.1: Download & install\n",
    "First, we must download the `vader_lexicon` NLTK resource."
   ],
   "metadata": {
    "collapsed": false,
    "pycharm": {
     "name": "#%% md\n"
    }
   }
  },
  {
   "cell_type": "code",
   "execution_count": 133,
   "outputs": [
    {
     "name": "stderr",
     "output_type": "stream",
     "text": [
      "[nltk_data] Downloading package vader_lexicon to\n",
      "[nltk_data]     /home/max/nltk_data...\n",
      "[nltk_data]   Package vader_lexicon is already up-to-date!\n"
     ]
    },
    {
     "data": {
      "text/plain": "True"
     },
     "execution_count": 133,
     "metadata": {},
     "output_type": "execute_result"
    }
   ],
   "source": [
    "import nltk\n",
    "nltk.download('vader_lexicon')"
   ],
   "metadata": {
    "collapsed": false,
    "pycharm": {
     "name": "#%%\n"
    }
   }
  },
  {
   "cell_type": "markdown",
   "source": [
    "### Step 3.2: Run analysis on input text\n",
    "We rejoin the paragraphs and run the analysis:"
   ],
   "metadata": {
    "collapsed": false,
    "pycharm": {
     "name": "#%% md\n"
    }
   }
  },
  {
   "cell_type": "code",
   "execution_count": 134,
   "outputs": [
    {
     "name": "stdout",
     "output_type": "stream",
     "text": [
      "Got scores from paragraphs together {'neg': 0.065, 'neu': 0.748, 'pos': 0.187, 'compound': 0.9982} \n"
     ]
    }
   ],
   "source": [
    "from nltk.sentiment.vader import SentimentIntensityAnalyzer\n",
    "\n",
    "analyzer = SentimentIntensityAnalyzer()\n",
    "\n",
    "paragraphs_together = \"\\n\".join(paragraphs)\n",
    "together_scores = analyzer.polarity_scores(paragraphs_together)\n",
    "\n",
    "print(\"Got scores from paragraphs together {} \".format(together_scores))"
   ],
   "metadata": {
    "collapsed": false,
    "pycharm": {
     "name": "#%%\n"
    }
   }
  },
  {
   "cell_type": "markdown",
   "source": [
    "### Step 3.3: Extract a single sentiment score\n",
    "We will now extract a single sentiment score from the text. This value is in the range\n",
    "`[-1, 1]`, with higher values signaling a more positive sentiment and lower values signaling\n",
    "a more negative sentiment. The meaning of this score will be explained more in the conclusion."
   ],
   "metadata": {
    "collapsed": false,
    "pycharm": {
     "name": "#%% md\n"
    }
   }
  },
  {
   "cell_type": "code",
   "execution_count": 135,
   "outputs": [
    {
     "name": "stdout",
     "output_type": "stream",
     "text": [
      "Got single sentiment score: 0.9982\n"
     ]
    }
   ],
   "source": [
    "single_sentiment_score = together_scores.get(\"compound\")\n",
    "print(\"Got single sentiment score: {}\".format(single_sentiment_score))"
   ],
   "metadata": {
    "collapsed": false,
    "pycharm": {
     "name": "#%%\n"
    }
   }
  },
  {
   "cell_type": "markdown",
   "source": [
    "### Step 3.4: Run analysis on individual paragraphs\n",
    "We now run the VADER analysis on each paragraph individually:"
   ],
   "metadata": {
    "collapsed": false,
    "pycharm": {
     "name": "#%% md\n"
    }
   }
  },
  {
   "cell_type": "code",
   "execution_count": 136,
   "outputs": [
    {
     "name": "stdout",
     "output_type": "stream",
     "text": [
      "Got scores from individual paragraphs [{'neg': 0.124, 'neu': 0.731, 'pos': 0.145, 'compound': 0.521}, {'neg': 0.05, 'neu': 0.721, 'pos': 0.23, 'compound': 0.9981}] \n"
     ]
    }
   ],
   "source": [
    "paragraphs_scores = [analyzer.polarity_scores(paragraph) for paragraph in paragraphs]\n",
    "\n",
    "print(\"Got scores from individual paragraphs {} \".format(paragraphs_scores))"
   ],
   "metadata": {
    "collapsed": false,
    "pycharm": {
     "name": "#%%\n"
    }
   }
  },
  {
   "cell_type": "markdown",
   "source": [
    "### Step 3.5: Visualize results\n",
    "We leverage [Matplotlib](https://pypi.org/project/matplotlib/) to visualize our results in a stacked-bar chart."
   ],
   "metadata": {
    "collapsed": false,
    "pycharm": {
     "name": "#%% md\n"
    }
   }
  },
  {
   "cell_type": "code",
   "execution_count": 155,
   "outputs": [
    {
     "name": "stdout",
     "output_type": "stream",
     "text": [
      "['Whole Text', 'Paragraph 1', 'Paragraph 2']\n",
      "[0.187, 0.145, 0.23] [0.748, 0.731, 0.721] [0.065, 0.124, 0.05]\n"
     ]
    }
   ],
   "source": [
    "import matplotlib.pyplot as plt\n",
    "import matplotlib.patches as mpatches\n",
    "\n",
    "plt.ioff()\n",
    "\n",
    "# we need to add 1 to the start and stop because otherwise our paragraphs would be 0-indexed\n",
    "paras_list = list(range(1, len(paragraphs) + 1))\n",
    "\n",
    "# create labels for each paragraph\n",
    "paras_labels = [\"Paragraph {}\".format(para_num) for para_num in paras_list]\n",
    "labels = [\"Whole Text\"] + paras_labels\n",
    "print(labels)\n",
    "\n",
    "# extract the scores from the paragraphs together and individually\n",
    "positive_scores = [together_scores.get(\"pos\")] + [score.get(\"pos\") for score in paragraphs_scores]\n",
    "neutral_scores = [together_scores.get(\"neu\")] + [score.get(\"neu\") for score in paragraphs_scores]\n",
    "negative_scores = [together_scores.get(\"neg\")] + [score.get(\"neg\") for score in paragraphs_scores]\n",
    "\n",
    "print(positive_scores, neutral_scores, negative_scores)\n",
    "\n",
    "width = 0.35"
   ],
   "metadata": {
    "collapsed": false,
    "pycharm": {
     "name": "#%%\n"
    }
   }
  },
  {
   "cell_type": "code",
   "execution_count": 146,
   "outputs": [
    {
     "data": {
      "text/plain": "Text(0.5, 1.0, 'Single sentiment score')"
     },
     "execution_count": 146,
     "metadata": {},
     "output_type": "execute_result"
    },
    {
     "data": {
      "text/plain": "<Figure size 432x54 with 1 Axes>",
      "image/png": "[encoded data removed]"
     },
     "metadata": {
      "needs_background": "light"
     },
     "output_type": "display_data"
    }
   ],
   "source": [
    "# create the first subplot: the single score\n",
    "fig2, ax2 = plt.subplots()\n",
    "ax2.barh(\"Score\", single_sentiment_score, color=\"#aa3300\")\n",
    "# the score is [-1, 1] so make the chart reflect that\n",
    "ax2.set_xbound(-1, 1)\n",
    "fig2.set_figheight(.75)\n",
    "ax2.set_title(\"Single sentiment score\")"
   ],
   "metadata": {
    "collapsed": false,
    "pycharm": {
     "name": "#%%\n"
    }
   }
  },
  {
   "cell_type": "code",
   "execution_count": 158,
   "outputs": [
    {
     "data": {
      "text/plain": "<Figure size 432x288 with 1 Axes>",
      "image/png": "[encoded data removed]"
     },
     "metadata": {
      "needs_background": "light"
     },
     "output_type": "display_data"
    }
   ],
   "source": [
    "# create the second subplot: the score breakdowns\n",
    "fig, ax = plt.subplots()\n",
    "ax.bar(labels, positive_scores, width, label=\"Positive\", color=\"green\")\n",
    "ax.bar(labels, neutral_scores, width, label=\"Neutral\", bottom=positive_scores, color=\"orange\")\n",
    "\n",
    "# matplotlib expects that we sum the previous values to correctly stack our bar charts\n",
    "pos_neu_scores_sum = [sum(x) for x in zip(positive_scores, neutral_scores)]\n",
    "ax.bar(labels, negative_scores, width, label='Negative', bottom=pos_neu_scores_sum, color=\"red\")\n",
    "\n",
    "ax.set_ylabel(\"Score\")\n",
    "ax.set_title(\"Sentiment scores together and by paragraph\")\n",
    "\n",
    "# workaround: see https://matplotlib.org/2.0.2/users/legend_guide.html\n",
    "patches = [mpatches.Patch(color=\"red\", label=\"Negative\"), mpatches.Patch(color=\"orange\", label=\"Neutral\"), mpatches.Patch(color=\"green\", label=\"Positive\")]\n",
    "ax.legend(handles=patches)\n",
    "\n",
    "plt.show()"
   ],
   "metadata": {
    "collapsed": false,
    "pycharm": {
     "name": "#%%\n"
    }
   }
  },
  {
   "cell_type": "markdown",
   "source": [
    "### Step 3.5: Some conclusions\n",
    "The \"single sentiment\" score from above seems suspiciously high/confident. While the\n",
    "sentiment score's negative, neutral, and positive scores make sense, a sentiment score in the\n",
    "range of [-1, 1] does not accurately reflect the sentiment of the text. A likely reason for this is\n",
    "the fact that the VADER sentiment analysis is designed for shorter amounts of text. Perhaps a different\n",
    "approach is needed."
   ],
   "metadata": {
    "collapsed": false,
    "pycharm": {
     "name": "#%% md\n"
    }
   }
  },
  {
   "cell_type": "markdown",
   "source": [
    "## Step 4"
   ],
   "metadata": {
    "collapsed": false,
    "pycharm": {
     "name": "#%% md\n"
    }
   }
  },
  {
   "cell_type": "markdown",
   "source": [
    "## Step 5: Conclusions"
   ],
   "metadata": {
    "collapsed": false,
    "pycharm": {
     "name": "#%% md\n"
    }
   }
  }
 ],
 "metadata": {
  "kernelspec": {
   "display_name": "Python 3 (ipykernel)",
   "language": "python",
   "name": "python3"
  },
  "language_info": {
   "codemirror_mode": {
    "name": "ipython",
    "version": 3
   },
   "file_extension": ".py",
   "mimetype": "text/x-python",
   "name": "python",
   "nbconvert_exporter": "python",
   "pygments_lexer": "ipython3",
   "version": "3.8.10"
  }
 },
 "nbformat": 4,
 "nbformat_minor": 1
}