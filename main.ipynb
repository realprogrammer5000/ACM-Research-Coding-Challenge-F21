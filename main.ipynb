{
 "cells": [
  {
   "cell_type": "markdown",
   "metadata": {},
   "source": [
    "# Sentiment Analysis with NLTK and VADER"
   ]
  },
  {
   "cell_type": "markdown",
   "metadata": {},
   "source": [
    "## Step 1: Load the input text\n",
    "To begin, we load the input text from `input.txt`:"
   ]
  },
  {
   "cell_type": "code",
   "execution_count": 343,
   "metadata": {},
   "outputs": [
    {
     "name": "stdout",
     "output_type": "stream",
     "text": [
      "Read input file: \"Stop blushing. I'm not needli...\n"
     ]
    }
   ],
   "source": [
    "from pathlib import Path\n",
    "\n",
    "# read and close the file in one line\n",
    "# see https://stackoverflow.com/a/49564464\n",
    "text_file = Path(\"input.txt\").read_text()\n",
    "\n",
    "# ensure that we've read the correct file\n",
    "print(\"Read input file: {}...\".format(text_file[0:30]))"
   ]
  },
  {
   "cell_type": "markdown",
   "metadata": {
    "pycharm": {
     "name": "#%% md\n"
    }
   },
   "source": [
    "## Step 2: Split into two paragraphs and reformat text\n",
    "The input text file seems to contain two paragraphs that could be analyzed separately.\n",
    "These paragraphs are seperated from each other by double newlines, so we split them here.\n",
    "The input text file also contains newlines to avoid any one line from being too long, so\n",
    "we then remove all the newlines."
   ]
  },
  {
   "cell_type": "code",
   "execution_count": 306,
   "metadata": {
    "pycharm": {
     "name": "#%%\n"
    }
   },
   "outputs": [
    {
     "name": "stdout",
     "output_type": "stream",
     "text": [
      "Extracted 2 paragraphs: '\"Stop blushing. I'm ...' 'I think you may like...'\n"
     ]
    }
   ],
   "source": [
    "# split into paragraphs and remove newlines inside paragraphs\n",
    "# we also need to remove double-spaces because some lines end with a space\n",
    "paragraphs = text_file.split(\"\\n\\n\")\n",
    "paragraphs = [paragraph.replace(\"\\n\", \" \").replace(\"  \", \" \") for paragraph in paragraphs]\n",
    "print(\"Extracted {} paragraphs: '{}...' '{}...'\".format(len(paragraphs), paragraphs[0][0:20], paragraphs[1][0:20]))"
   ]
  },
  {
   "cell_type": "markdown",
   "source": [
    "## Step 3: Calculating overall sentiment with NLTK and VADER\n",
    "To begin, we calculate the overall sentiment of our input text with VADER, a sentiment\n",
    "analysis tool built from the research of Hutto, C.J. & Gilbert."
   ],
   "metadata": {
    "collapsed": false,
    "pycharm": {
     "name": "#%% md\n"
    }
   }
  },
  {
   "cell_type": "markdown",
   "source": [
    "### Step 3.1: Download & install\n",
    "First, we must download the `vader_lexicon` NLTK resource."
   ],
   "metadata": {
    "collapsed": false,
    "pycharm": {
     "name": "#%% md\n"
    }
   }
  },
  {
   "cell_type": "code",
   "execution_count": 307,
   "outputs": [
    {
     "name": "stderr",
     "output_type": "stream",
     "text": [
      "[nltk_data] Downloading package vader_lexicon to\n",
      "[nltk_data]     /home/max/nltk_data...\n",
      "[nltk_data]   Package vader_lexicon is already up-to-date!\n"
     ]
    },
    {
     "data": {
      "text/plain": "True"
     },
     "execution_count": 307,
     "metadata": {},
     "output_type": "execute_result"
    }
   ],
   "source": [
    "import nltk\n",
    "nltk.download('vader_lexicon')"
   ],
   "metadata": {
    "collapsed": false,
    "pycharm": {
     "name": "#%%\n"
    }
   }
  },
  {
   "cell_type": "markdown",
   "source": [
    "### Step 3.2: Run analysis on input text\n",
    "We rejoin the paragraphs and run the analysis:"
   ],
   "metadata": {
    "collapsed": false,
    "pycharm": {
     "name": "#%% md\n"
    }
   }
  },
  {
   "cell_type": "code",
   "execution_count": 308,
   "outputs": [
    {
     "name": "stdout",
     "output_type": "stream",
     "text": [
      "Got scores from paragraphs together {'neg': 0.065, 'neu': 0.748, 'pos': 0.187, 'compound': 0.9982} \n"
     ]
    }
   ],
   "source": [
    "from nltk.sentiment.vader import SentimentIntensityAnalyzer\n",
    "\n",
    "analyzer = SentimentIntensityAnalyzer()\n",
    "\n",
    "paragraphs_together = \"\\n\".join(paragraphs)\n",
    "together_scores = analyzer.polarity_scores(paragraphs_together)\n",
    "\n",
    "print(\"Got scores from paragraphs together {} \".format(together_scores))"
   ],
   "metadata": {
    "collapsed": false,
    "pycharm": {
     "name": "#%%\n"
    }
   }
  },
  {
   "cell_type": "markdown",
   "source": [
    "### Step 3.3: Extract a single sentiment score\n",
    "We will now extract a single sentiment score from the text. This value is in the range\n",
    "`[-1, 1]`, with higher values signaling a more positive sentiment and lower values signaling\n",
    "a more negative sentiment. The meaning of this score will be explained more in the conclusion."
   ],
   "metadata": {
    "collapsed": false,
    "pycharm": {
     "name": "#%% md\n"
    }
   }
  },
  {
   "cell_type": "code",
   "execution_count": 309,
   "outputs": [
    {
     "name": "stdout",
     "output_type": "stream",
     "text": [
      "Got single sentiment score: 0.9982\n"
     ]
    }
   ],
   "source": [
    "single_sentiment_score = together_scores.get(\"compound\")\n",
    "print(\"Got single sentiment score: {}\".format(single_sentiment_score))"
   ],
   "metadata": {
    "collapsed": false,
    "pycharm": {
     "name": "#%%\n"
    }
   }
  },
  {
   "cell_type": "markdown",
   "source": [
    "### Step 3.4: Run analysis on individual paragraphs\n",
    "We now run the VADER analysis on each paragraph individually:"
   ],
   "metadata": {
    "collapsed": false,
    "pycharm": {
     "name": "#%% md\n"
    }
   }
  },
  {
   "cell_type": "code",
   "execution_count": 310,
   "outputs": [
    {
     "name": "stdout",
     "output_type": "stream",
     "text": [
      "Got scores from individual paragraphs [{'neg': 0.124, 'neu': 0.731, 'pos': 0.145, 'compound': 0.521}, {'neg': 0.05, 'neu': 0.721, 'pos': 0.23, 'compound': 0.9981}] \n"
     ]
    }
   ],
   "source": [
    "paragraphs_scores = [analyzer.polarity_scores(paragraph) for paragraph in paragraphs]\n",
    "\n",
    "print(\"Got scores from individual paragraphs {} \".format(paragraphs_scores))"
   ],
   "metadata": {
    "collapsed": false,
    "pycharm": {
     "name": "#%%\n"
    }
   }
  },
  {
   "cell_type": "markdown",
   "source": [
    "### Step 3.5: Visualize results\n",
    "We leverage [Matplotlib](https://pypi.org/project/matplotlib/) to visualize our results in a stacked-bar chart."
   ],
   "metadata": {
    "collapsed": false,
    "pycharm": {
     "name": "#%% md\n"
    }
   }
  },
  {
   "cell_type": "code",
   "execution_count": 311,
   "outputs": [
    {
     "name": "stdout",
     "output_type": "stream",
     "text": [
      "['Whole Text', 'Paragraph 1', 'Paragraph 2']\n",
      "[0.187, 0.145, 0.23] [0.748, 0.731, 0.721] [0.065, 0.124, 0.05]\n"
     ]
    }
   ],
   "source": [
    "import matplotlib.pyplot as plt\n",
    "import matplotlib.patches as mpatches\n",
    "plt.ioff()\n",
    "\n",
    "# we need to add 1 to the start and stop because otherwise our paragraphs would be 0-indexed\n",
    "paras_list = list(range(1, len(paragraphs) + 1))\n",
    "\n",
    "# create labels for each paragraph\n",
    "paras_labels = [\"Paragraph {}\".format(para_num) for para_num in paras_list]\n",
    "labels = [\"Whole Text\"] + paras_labels\n",
    "print(labels)\n",
    "\n",
    "# extract the scores from the paragraphs together and individually\n",
    "positive_scores = [together_scores.get(\"pos\")] + [score.get(\"pos\") for score in paragraphs_scores]\n",
    "neutral_scores = [together_scores.get(\"neu\")] + [score.get(\"neu\") for score in paragraphs_scores]\n",
    "negative_scores = [together_scores.get(\"neg\")] + [score.get(\"neg\") for score in paragraphs_scores]\n",
    "\n",
    "print(positive_scores, neutral_scores, negative_scores)\n",
    "\n",
    "width = 0.35"
   ],
   "metadata": {
    "collapsed": false,
    "pycharm": {
     "name": "#%%\n"
    }
   }
  },
  {
   "cell_type": "code",
   "execution_count": 312,
   "outputs": [
    {
     "data": {
      "text/plain": "Text(0.5, 1.0, 'Single sentiment score')"
     },
     "execution_count": 312,
     "metadata": {},
     "output_type": "execute_result"
    },
    {
     "data": {
      "text/plain": "<Figure size 432x54 with 1 Axes>",
      "image/png": "[encoded data removed]"
     },
     "metadata": {},
     "output_type": "display_data"
    }
   ],
   "source": [
    "# create the first subplot: the single score\n",
    "fig, ax = plt.subplots()\n",
    "fig.patch.set_facecolor('white')\n",
    "\n",
    "ax.barh(\"Score\", single_sentiment_score, color=\"#aa3300\")\n",
    "# the score is [-1, 1] so make the chart reflect that\n",
    "ax.set_xbound(-1, 1)\n",
    "fig.set_figheight(.75)\n",
    "ax.set_title(\"Single sentiment score\")"
   ],
   "metadata": {
    "collapsed": false,
    "pycharm": {
     "name": "#%%\n"
    }
   }
  },
  {
   "cell_type": "code",
   "execution_count": 325,
   "outputs": [
    {
     "data": {
      "text/plain": "<Figure size 432x288 with 1 Axes>",
      "image/png": "[encoded data removed]"
     },
     "metadata": {},
     "output_type": "display_data"
    }
   ],
   "source": [
    "# create the second subplot: the score breakdowns\n",
    "fig2, ax2 = plt.subplots()\n",
    "fig2.patch.set_facecolor('white')\n",
    "ax2.bar(labels, positive_scores, width, label=\"Positive\", color=\"green\")\n",
    "ax2.bar(labels, neutral_scores, width, label=\"Neutral\", bottom=positive_scores, color=\"orange\")\n",
    "\n",
    "# matplotlib expects that we sum the previous values to correctly stack our bar charts\n",
    "pos_neu_scores_sum = [sum(x) for x in zip(positive_scores, neutral_scores)]\n",
    "ax2.bar(labels, negative_scores, width, label='Negative', bottom=pos_neu_scores_sum, color=\"red\")\n",
    "\n",
    "ax2.set_ylabel(\"Score\")\n",
    "ax2.set_title(\"Sentiment scores together and by paragraph\")\n",
    "\n",
    "# workaround: see https://matplotlib.org/2.0.2/users/legend_guide.html\n",
    "patches = [mpatches.Patch(color=\"red\", label=\"Negative\"), mpatches.Patch(color=\"orange\", label=\"Neutral\"), mpatches.Patch(color=\"green\", label=\"Positive\")]\n",
    "ax2.legend(handles=patches)\n",
    "\n",
    "plt.show()"
   ],
   "metadata": {
    "collapsed": false,
    "pycharm": {
     "name": "#%%\n"
    }
   }
  },
  {
   "cell_type": "markdown",
   "source": [
    "### Step 3.5: Unhappy conclusions\n",
    "The \"single sentiment\" score from above seems suspiciously positive. While the\n",
    "sentiment score's negative, neutral, and positive scores make sense, a sentiment score\n",
    "very near 1 does not accurately reflect the sentiment of the text. A likely reason for this is\n",
    "the fact that the VADER sentiment analysis is designed for shorter amounts of text.\n",
    "\n",
    "Next, we will try a different approach:"
   ],
   "metadata": {
    "collapsed": false,
    "pycharm": {
     "name": "#%% md\n"
    }
   }
  },
  {
   "cell_type": "markdown",
   "source": [
    "## Step 4: Sentence-by-sentence analysis\n",
    "Perhaps a way to overcome the limitations of VADER is to analyze on a per-sentence basis and then\n",
    "aggregate per-sentence scores to a total score."
   ],
   "metadata": {
    "collapsed": false,
    "pycharm": {
     "name": "#%% md\n"
    }
   }
  },
  {
   "cell_type": "markdown",
   "source": [
    "### Step 4.1: Splitting our corpus into individual sentences\n",
    "Fortunately for us, NLTK includes a `sent_tokenize()` method that allows us to split\n",
    "the text into individual sentences. This method uses the Punkt sentence tokenizer, which\n",
    "is smart enough to split on grammatical sentence boundaries and not just on punctuation.\n",
    "\n",
    "Here is an excerpted example from the [NLTK source code](https://www.nltk.org/_modules/nltk/tokenize/punkt.html):\n",
    "```\n",
    ">>> import nltk.data\n",
    ">>> text = '''\n",
    "... Punkt knows that the periods in Mr. Smith and Johann S. Bach\n",
    "... do not mark sentence boundaries.  And sometimes sentences\n",
    "... can start with non-capitalized words.  i is a good variable\n",
    "... name.\n",
    "... '''\n",
    ">>> sent_detector = nltk.data.load('tokenizers/punkt/english.pickle')\n",
    ">>> print('\\n-----\\n'.join(sent_detector.tokenize(text.strip())))\n",
    "Punkt knows that the periods in Mr. Smith and Johann S. Bach\n",
    "do not mark sentence boundaries.\n",
    "-----\n",
    "And sometimes sentences\n",
    "can start with non-capitalized words.\n",
    "-----\n",
    "i is a good variable\n",
    "name.\n",
    "```\n",
    "Now, we will use te sent_tokenize() method to tokenize our individual paragraphs.\n",
    "We start by downloading the Punkt sentence tokenizer."
   ],
   "metadata": {
    "collapsed": false,
    "pycharm": {
     "name": "#%% md\n"
    }
   }
  },
  {
   "cell_type": "code",
   "execution_count": 314,
   "outputs": [
    {
     "name": "stdout",
     "output_type": "stream",
     "text": [
      "Tokenized paragraphs into sentences: ['\"Stop blushing.', \"I'm not needling, really I'm not.\"] ['I think you may like to know something of his person and character.', 'He had an excellent constitution of body, was of middle stature, but well set, and very strong; he was ingenious, could draw prettily, was skilled a little in music, and had a clear, pleasing voice, so that when he played psalm tunes on his violin and sung withal, as he sometimes did in an evening after the business of the day was over, it was extremely agreeable to hear.']\n"
     ]
    },
    {
     "name": "stderr",
     "output_type": "stream",
     "text": [
      "[nltk_data] Downloading package punkt to /home/max/nltk_data...\n",
      "[nltk_data]   Package punkt is already up-to-date!\n"
     ]
    }
   ],
   "source": [
    "nltk.download('punkt')\n",
    "\n",
    "paragraphs_sentences = [nltk.sent_tokenize(paragraph) for paragraph in paragraphs]\n",
    "print(\"Tokenized paragraphs into sentences: {} {}\".format(paragraphs_sentences[0][0:2], paragraphs_sentences[1][0:2]))"
   ],
   "metadata": {
    "collapsed": false,
    "pycharm": {
     "name": "#%%\n"
    }
   }
  },
  {
   "cell_type": "markdown",
   "source": [
    "## Step 4.2: Running VADER analysis on each sentence\n",
    "Now we go through each sentence of each paragraph and run VADER analysis on it."
   ],
   "metadata": {
    "collapsed": false,
    "pycharm": {
     "name": "#%% md\n"
    }
   }
  },
  {
   "cell_type": "code",
   "execution_count": 315,
   "outputs": [
    {
     "name": "stdout",
     "output_type": "stream",
     "text": [
      "Scored sentences in paragraphs: [{'neg': 0.688, 'neu': 0.312, 'pos': 0.0, 'compound': -0.296}, {'neg': 0.0, 'neu': 1.0, 'pos': 0.0, 'compound': 0.0}] [{'neg': 0.0, 'neu': 0.815, 'pos': 0.185, 'compound': 0.3612}, {'neg': 0.0, 'neu': 0.705, 'pos': 0.295, 'compound': 0.9779}]\n"
     ]
    }
   ],
   "source": [
    "paragraphs_sentences_scores = [[analyzer.polarity_scores(sentence) for sentence in sentences] for sentences in paragraphs_sentences]\n",
    "print(\"Scored sentences in paragraphs: {} {}\".format(paragraphs_sentences_scores[0][0:2], paragraphs_sentences_scores[1][0:2]))"
   ],
   "metadata": {
    "collapsed": false,
    "pycharm": {
     "name": "#%%\n"
    }
   }
  },
  {
   "cell_type": "markdown",
   "source": [
    "## Step 4.3: Average compound scores\n",
    "Now we sum each sentence's compound scores and divide by the total number of sentences\n",
    "to determine an average compound score."
   ],
   "metadata": {
    "collapsed": false,
    "pycharm": {
     "name": "#%% md\n"
    }
   }
  },
  {
   "cell_type": "code",
   "execution_count": 316,
   "outputs": [
    {
     "name": "stdout",
     "output_type": "stream",
     "text": [
      "Average compound score for each paragraph: [0.0014400000000000036, 0.7775857142857143]\n"
     ]
    }
   ],
   "source": [
    "# over each paragraph,\n",
    "paragraphs_average_compound = [\n",
    "    # sum the compound scores...\n",
    "    sum([sentence.get(\"compound\") for sentence in paragraph])\n",
    "    # then divide by the amount of sentences to get the average\n",
    "    / len(paragraph)\n",
    "    for paragraph in paragraphs_sentences_scores\n",
    "]\n",
    "\n",
    "print(\"Average compound score for each paragraph: {}\".format(paragraphs_average_compound))"
   ],
   "metadata": {
    "collapsed": false,
    "pycharm": {
     "name": "#%%\n"
    }
   }
  },
  {
   "cell_type": "markdown",
   "source": [
    "## Step 4.4: Average scores across paragraphs\n",
    "We now combine the scores from both paragraphs into a single score, range `[-1, 1]`:"
   ],
   "metadata": {
    "collapsed": false,
    "pycharm": {
     "name": "#%% md\n"
    }
   }
  },
  {
   "cell_type": "code",
   "execution_count": 317,
   "outputs": [
    {
     "name": "stdout",
     "output_type": "stream",
     "text": [
      "Single compound score: 0.3895\n"
     ]
    }
   ],
   "source": [
    "single_compound_sentence_score = sum(paragraphs_average_compound) / len(paragraphs_average_compound)\n",
    "print(\"Single compound score: {:.4f}\".format(single_compound_sentence_score))"
   ],
   "metadata": {
    "collapsed": false,
    "pycharm": {
     "name": "#%%\n"
    }
   }
  },
  {
   "cell_type": "markdown",
   "source": [
    "## Step 4.5: Visualize results\n",
    "First we plot our averaged scores. Note that the paragraph 1 score is very low, so it does not appear on the graph."
   ],
   "metadata": {
    "collapsed": false,
    "pycharm": {
     "name": "#%% md\n"
    }
   }
  },
  {
   "cell_type": "code",
   "execution_count": 318,
   "outputs": [
    {
     "data": {
      "text/plain": "Text(0.5, 1.0, 'Single compound sentence sentiment score')"
     },
     "execution_count": 318,
     "metadata": {},
     "output_type": "execute_result"
    },
    {
     "data": {
      "text/plain": "<Figure size 432x54 with 1 Axes>",
      "image/png": "[encoded data removed]"
     },
     "metadata": {},
     "output_type": "display_data"
    }
   ],
   "source": [
    "# create the first subplot: the single score & paragraph individuals\n",
    "fig3, ax3 = plt.subplots()\n",
    "fig3.patch.set_facecolor('white')\n",
    "ax3.barh(\"Paragraph 2\", paragraphs_average_compound[1])\n",
    "ax3.barh(\"Paragraph 1\", paragraphs_average_compound[0])\n",
    "ax3.barh(\"Overall Score\", single_compound_sentence_score)\n",
    "# the score is [-1, 1] so make the chart reflect that\n",
    "ax3.set_xbound(-1, 1)\n",
    "fig3.set_figheight(.75)\n",
    "ax3.set_title(\"Single compound sentence sentiment score\")"
   ],
   "metadata": {
    "collapsed": false,
    "pycharm": {
     "name": "#%%\n"
    }
   }
  },
  {
   "cell_type": "markdown",
   "source": [
    "Then we plot the individual sentences that contributed to the compound score:"
   ],
   "metadata": {
    "collapsed": false,
    "pycharm": {
     "name": "#%% md\n"
    }
   }
  },
  {
   "cell_type": "code",
   "execution_count": 319,
   "outputs": [
    {
     "data": {
      "text/plain": "<Figure size 432x345.6 with 1 Axes>",
      "image/png": "[encoded data removed]"
     },
     "metadata": {},
     "output_type": "display_data"
    },
    {
     "data": {
      "text/plain": "<Figure size 432x151.2 with 1 Axes>",
      "image/png": "[encoded data removed]"
     },
     "metadata": {},
     "output_type": "display_data"
    }
   ],
   "source": [
    "# loop through each paragraph\n",
    "for i in range(0, len(paragraphs_sentences_scores)):\n",
    "    fig4, ax4 = plt.subplots()\n",
    "    fig4.patch.set_facecolor('white')\n",
    "    para_len = len(paragraphs_sentences_scores[i])\n",
    "\n",
    "    # reverse so sentence 0 is first\n",
    "    plt.gca().invert_yaxis()\n",
    "\n",
    "    added = 0\n",
    "\n",
    "    # add a bar for each sentence\n",
    "    for j in range(0, para_len):\n",
    "        compound = paragraphs_sentences_scores[i][j].get(\"compound\")\n",
    "        if abs(compound) > 0: # only include non-zero sentences\n",
    "            added += 1\n",
    "            ax4.barh(\"Sentence {}\".format(j + 1), compound)\n",
    "\n",
    "    # the score is [-1, 1] so make the chart reflect that\n",
    "    ax4.set_xbound(-1, 1)\n",
    "    fig4.set_figheight(added * .3)\n",
    "    ax4.set_title(\"Scores for most important paragraph {} sentences\".format(i + 1))"
   ],
   "metadata": {
    "collapsed": false,
    "pycharm": {
     "name": "#%%\n"
    }
   }
  },
  {
   "cell_type": "markdown",
   "source": [
    "## Step 5: Conclusions\n",
    "*Note: the conclusions here are the same as in [README.md](README.md).*\n",
    "\n",
    "### Sentiment score of [input.txt](input.txt)\n",
    "`single_compound_sentence_score`: 0.3895\n",
    "\n",
    "This value calculated by my code is in the range `[-1, 1]`, with values closer to 1 being\n",
    "more positive and values closer to -1 being more negative. This suggests a slightly positive\n",
    "sentiment, which agrees with what I would expect given my reading of the input text. More specifically,\n",
    "the second paragraph was calculated to have a moderately high sentiment score, but the first paragraph had\n",
    "a sentiment score of almost zero. This closely matches with my expectations, as I perceived the first\n",
    "paragraph to have a neutral sentiment and the second paragraph to have a strongly positive\n",
    "sentiment for an overall positive sentiment.\n",
    "\n",
    "### Individual paragraph and sentence scores\n",
    "This figure visualizes the determined sentiment score for the whole text, first paragraph, and second paragraph. Note\n",
    "that the sentiment score for the first paragraph was very close to zero, and thus no bar shows\n",
    "for that paragraph.\n",
    "\n",
    "![Figure 3](./figures/fig3.png)\n",
    "\n",
    "The sentiment of the most important sentences in the first and second paragraphs is shown in the\n",
    "following figures.\n",
    "\n",
    "![Figure 4](./figures/fig4.png)\n",
    "![Figure 5](./figures/fig5.png)"
   ],
   "metadata": {
    "collapsed": false,
    "pycharm": {
     "name": "#%% md\n"
    }
   }
  }
 ],
 "metadata": {
  "kernelspec": {
   "display_name": "Python 3 (ipykernel)",
   "language": "python",
   "name": "python3"
  },
  "language_info": {
   "codemirror_mode": {
    "name": "ipython",
    "version": 3
   },
   "file_extension": ".py",
   "mimetype": "text/x-python",
   "name": "python",
   "nbconvert_exporter": "python",
   "pygments_lexer": "ipython3",
   "version": "3.8.10"
  }
 },
 "nbformat": 4,
 "nbformat_minor": 1
}